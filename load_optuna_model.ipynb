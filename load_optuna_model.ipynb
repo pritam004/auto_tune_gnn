{
 "cells": [
  {
   "cell_type": "code",
   "execution_count": 8,
   "metadata": {},
   "outputs": [],
   "source": [
    "best_params= {'n_hidden': 29, 'layer_1': 6, 'layer_2': 14, 'layer_3': 12, 'aggregator_type': 'mean', 'batch_size': 36}"
   ]
  },
  {
   "cell_type": "code",
   "execution_count": 9,
   "metadata": {},
   "outputs": [],
   "source": [
    "from model import SAGE\n",
    "from dataloader import DataModule\n",
    "from ogb.nodeproppred import DglNodePropPredDataset"
   ]
  },
  {
   "cell_type": "code",
   "execution_count": 10,
   "metadata": {},
   "outputs": [],
   "source": [
    "dataset = DglNodePropPredDataset(\"ogbn-products\")\n",
    "graph, labels = dataset[0]\n",
    "\n",
    "graph.ndata[\"label\"] = labels.squeeze()\n",
    "\n",
    "split_idx = dataset.get_idx_split()\n",
    "\n",
    "train_idx, val_idx, test_idx = (\n",
    "    split_idx[\"train\"],\n",
    "    split_idx[\"valid\"],\n",
    "    split_idx[\"test\"],\n",
    ")"
   ]
  },
  {
   "cell_type": "code",
   "execution_count": 12,
   "metadata": {},
   "outputs": [],
   "source": []
  },
  {
   "cell_type": "code",
   "execution_count": 13,
   "metadata": {},
   "outputs": [
    {
     "data": {
      "text/plain": [
       "SAGE(\n",
       "  (layers): ModuleList(\n",
       "    (0): SAGEConv(\n",
       "      (feat_drop): Dropout(p=0.0, inplace=False)\n",
       "      (fc_neigh): Linear(in_features=100, out_features=29, bias=False)\n",
       "      (fc_self): Linear(in_features=100, out_features=29, bias=True)\n",
       "    )\n",
       "    (1): SAGEConv(\n",
       "      (feat_drop): Dropout(p=0.0, inplace=False)\n",
       "      (fc_neigh): Linear(in_features=29, out_features=29, bias=False)\n",
       "      (fc_self): Linear(in_features=29, out_features=29, bias=True)\n",
       "    )\n",
       "    (2): SAGEConv(\n",
       "      (feat_drop): Dropout(p=0.0, inplace=False)\n",
       "      (fc_neigh): Linear(in_features=29, out_features=47, bias=False)\n",
       "      (fc_self): Linear(in_features=29, out_features=47, bias=True)\n",
       "    )\n",
       "  )\n",
       "  (dropout): Dropout(p=0.5, inplace=False)\n",
       ")"
      ]
     },
     "execution_count": 13,
     "metadata": {},
     "output_type": "execute_result"
    }
   ],
   "source": [
    "model.load_from_checkpoint('logs/version_0/epoch=0-step=5462.ckpt')"
   ]
  },
  {
   "cell_type": "code",
   "execution_count": null,
   "metadata": {},
   "outputs": [],
   "source": []
  }
 ],
 "metadata": {
  "kernelspec": {
   "display_name": "base",
   "language": "python",
   "name": "python3"
  },
  "language_info": {
   "codemirror_mode": {
    "name": "ipython",
    "version": 3
   },
   "file_extension": ".py",
   "mimetype": "text/x-python",
   "name": "python",
   "nbconvert_exporter": "python",
   "pygments_lexer": "ipython3",
   "version": "3.9.13"
  },
  "orig_nbformat": 4
 },
 "nbformat": 4,
 "nbformat_minor": 2
}
